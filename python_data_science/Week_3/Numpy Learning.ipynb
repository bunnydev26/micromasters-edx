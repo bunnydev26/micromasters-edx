{
 "cells": [
  {
   "cell_type": "code",
   "execution_count": 2,
   "metadata": {},
   "outputs": [
    {
     "name": "stdout",
     "output_type": "stream",
     "text": [
      "<class 'numpy.ndarray'>\n"
     ]
    }
   ],
   "source": [
    "import numpy as np\n",
    "\n",
    "an_array = np.array([12, 14, 2])\n",
    "\n",
    "print(type(an_array))"
   ]
  },
  {
   "cell_type": "code",
   "execution_count": 3,
   "metadata": {},
   "outputs": [
    {
     "name": "stdout",
     "output_type": "stream",
     "text": [
      "(3,)\n"
     ]
    }
   ],
   "source": [
    "print(an_array.shape)"
   ]
  },
  {
   "cell_type": "code",
   "execution_count": 4,
   "metadata": {},
   "outputs": [
    {
     "name": "stdout",
     "output_type": "stream",
     "text": [
      "12 14 2\n"
     ]
    }
   ],
   "source": [
    "print(an_array[0], an_array[1], an_array[2])"
   ]
  },
  {
   "cell_type": "code",
   "execution_count": 6,
   "metadata": {},
   "outputs": [
    {
     "name": "stdout",
     "output_type": "stream",
     "text": [
      "[12 14  8]\n"
     ]
    }
   ],
   "source": [
    "an_array[2] = 8\n",
    "print(an_array)"
   ]
  },
  {
   "cell_type": "code",
   "execution_count": 10,
   "metadata": {},
   "outputs": [
    {
     "name": "stdout",
     "output_type": "stream",
     "text": [
      "The row and the column nxm are:  (2, 3)\n",
      "26 12\n"
     ]
    }
   ],
   "source": [
    "# Rank 2 array\n",
    "another = np.array([[26, 14, 2], [12, 3, 8]])\n",
    "print(\"The row and the column nxm are: \", another.shape)\n",
    "print(another[0][0], another[1][0])"
   ]
  },
  {
   "cell_type": "code",
   "execution_count": 13,
   "metadata": {},
   "outputs": [
    {
     "name": "stdout",
     "output_type": "stream",
     "text": [
      "[[0. 0.]\n",
      " [0. 0.]]\n"
     ]
    }
   ],
   "source": [
    "# In build operations that can be performed using numpy\n",
    "import numpy as np\n",
    "\n",
    "zeros = np.zeros((2,2))\n",
    "print(zeros)"
   ]
  },
  {
   "cell_type": "code",
   "execution_count": 15,
   "metadata": {},
   "outputs": [
    {
     "name": "stdout",
     "output_type": "stream",
     "text": [
      "[[26 26]\n",
      " [26 26]]\n"
     ]
    }
   ],
   "source": [
    "some_value = np.full((2,2), 26)\n",
    "print(some_value)"
   ]
  },
  {
   "cell_type": "code",
   "execution_count": 19,
   "metadata": {},
   "outputs": [
    {
     "name": "stdout",
     "output_type": "stream",
     "text": [
      "[[1. 0.]\n",
      " [0. 1.]]\n"
     ]
    }
   ],
   "source": [
    "eye_matrix = np.eye(2, 2))\n",
    "print(eye_matrix)"
   ]
  },
  {
   "cell_type": "code",
   "execution_count": 22,
   "metadata": {},
   "outputs": [
    {
     "name": "stdout",
     "output_type": "stream",
     "text": [
      "[[1. 1.]]\n"
     ]
    }
   ],
   "source": [
    "one_matrix = np.ones((1,2))\n",
    "print(one_matrix)"
   ]
  },
  {
   "cell_type": "code",
   "execution_count": 28,
   "metadata": {},
   "outputs": [
    {
     "name": "stdout",
     "output_type": "stream",
     "text": [
      "(1, 2)\n",
      "\n",
      "1.0\n"
     ]
    }
   ],
   "source": [
    "print(one_matrix.shape)\n",
    "print()\n",
    "print(one_matrix[0][1])"
   ]
  },
  {
   "cell_type": "code",
   "execution_count": 33,
   "metadata": {},
   "outputs": [
    {
     "name": "stdout",
     "output_type": "stream",
     "text": [
      "[[0.57822093 0.26566333]\n",
      " [0.49789414 0.97032617]]\n"
     ]
    }
   ],
   "source": [
    "# Create an random array float from 0 to 1\n",
    "random_array = np.random.random((2,2))\n",
    "print(random_array)"
   ]
  },
  {
   "cell_type": "code",
   "execution_count": 39,
   "metadata": {},
   "outputs": [
    {
     "name": "stdout",
     "output_type": "stream",
     "text": [
      "(3, 1)\n"
     ]
    }
   ],
   "source": [
    "print(np.random.random((3,1)).shape)"
   ]
  },
  {
   "cell_type": "markdown",
   "metadata": {},
   "source": [
    "## Slice Indexing"
   ]
  },
  {
   "cell_type": "code",
   "execution_count": 42,
   "metadata": {},
   "outputs": [
    {
     "name": "stdout",
     "output_type": "stream",
     "text": [
      "[[11 12 13]\n",
      " [21 22 23]\n",
      " [31 32 33]]\n"
     ]
    }
   ],
   "source": [
    "import numpy as np\n",
    "\n",
    "# Preparing a 3x3 dimensional array\n",
    "an_array = np.array([[11, 12, 13], [21, 22, 23], [31, 32, 33]])\n",
    "print(an_array)"
   ]
  },
  {
   "cell_type": "code",
   "execution_count": 77,
   "metadata": {},
   "outputs": [
    {
     "name": "stdout",
     "output_type": "stream",
     "text": [
      "Before changing an_array: 12 and an_array_slice: 12\n",
      "After changing an_array: 12 and an_array_slice: 13\n",
      "[[11 12 13]\n",
      " [21 22 23]\n",
      " [31 32 33]]\n",
      "[[13 13]\n",
      " [22 23]]\n"
     ]
    }
   ],
   "source": [
    "# Pull out the first two rows:\n",
    "an_array_slice = an_array[:2, 1:3]\n",
    "# To make a copy because by defaul the slices are by refrence\n",
    "an_array_slice = np.array(an_array[:2, 1:3])\n",
    "\n",
    "print(\"Before changing an_array: {} and an_array_slice: {}\".format(an_array[0][1], an_array_slice[0][0]))\n",
    "an_array_slice[0, 0] = 12 + 1 if an_array_slice[0][0] == 12 else 12\n",
    "print(\"After changing an_array: {} and an_array_slice: {}\".format(an_array[0][1], an_array_slice[0][0]))\n",
    "\n",
    "print(an_array)\n",
    "print(an_array_slice)"
   ]
  },
  {
   "cell_type": "code",
   "execution_count": 79,
   "metadata": {},
   "outputs": [
    {
     "name": "stdout",
     "output_type": "stream",
     "text": [
      "[[11 12 13]\n",
      " [21 22 23]\n",
      " [31 32 33]]\n"
     ]
    }
   ],
   "source": [
    "\n",
    "import numpy as np\n",
    "\n",
    "# Preparing a 3x3 dimensional array\n",
    "an_array = np.array([[11, 12, 13], [21, 22, 23], [31, 32, 33]])\n",
    "print(an_array)"
   ]
  },
  {
   "cell_type": "code",
   "execution_count": 87,
   "metadata": {},
   "outputs": [
    {
     "name": "stdout",
     "output_type": "stream",
     "text": [
      "[12 22 32]\n",
      "(3,)\n"
     ]
    }
   ],
   "source": [
    "# Using both integer and slicing creates a lower ranked ndarry Rank-1\n",
    "# a_slice = an_array[1, :]\n",
    "a_slice = an_array[:, 1]\n",
    "print(a_slice)\n",
    "print(a_slice.shape)"
   ]
  },
  {
   "cell_type": "code",
   "execution_count": 88,
   "metadata": {},
   "outputs": [
    {
     "name": "stdout",
     "output_type": "stream",
     "text": [
      "[[12]\n",
      " [22]\n",
      " [32]]\n",
      "(3, 1)\n"
     ]
    }
   ],
   "source": [
    "# Sliccing alone generates an array of the same rank.\n",
    "# b_slice = an_array[1:2, :]\n",
    "b_slice = an_array[:, 1:2]\n",
    "print(b_slice)\n",
    "print(b_slice.shape)"
   ]
  },
  {
   "cell_type": "markdown",
   "metadata": {},
   "source": [
    "## Array Indexing for changing elements"
   ]
  },
  {
   "cell_type": "code",
   "execution_count": 106,
   "metadata": {},
   "outputs": [
    {
     "name": "stdout",
     "output_type": "stream",
     "text": [
      "Original Array\n",
      "[[11 12 13]\n",
      " [21 22 23]]\n"
     ]
    }
   ],
   "source": [
    "# Create a new array:\n",
    "an_array = np.array([[11, 12, 13], [21, 22, 23], [31, 32, 33], [41, 42, 43]])\n",
    "print(\"Original Array\")\n",
    "print(an_array[:2,])"
   ]
  },
  {
   "cell_type": "code",
   "execution_count": 94,
   "metadata": {},
   "outputs": [
    {
     "name": "stdout",
     "output_type": "stream",
     "text": [
      "\n",
      " Col indices picked:  [0 1 2 0]\n"
     ]
    }
   ],
   "source": [
    "col_indices = np.array([0, 1 , 2, 0])\n",
    "print('\\n Col indices picked: ', col_indices)"
   ]
  },
  {
   "cell_type": "code",
   "execution_count": 97,
   "metadata": {},
   "outputs": [
    {
     "name": "stdout",
     "output_type": "stream",
     "text": [
      "\n",
      " Row indices picked:  [0 1 2 3]\n"
     ]
    }
   ],
   "source": [
    "row_indices = np.arange(4)\n",
    "print('\\n Row indices picked: ', row_indices)"
   ]
  },
  {
   "cell_type": "code",
   "execution_count": 100,
   "metadata": {},
   "outputs": [
    {
     "name": "stdout",
     "output_type": "stream",
     "text": [
      "0   0\n",
      "1   1\n",
      "2   2\n",
      "3   0\n"
     ]
    }
   ],
   "source": [
    "for (row, col) in zip(row_indices, col_indices):\n",
    "    print(row ,\" \", col)"
   ]
  },
  {
   "cell_type": "code",
   "execution_count": 102,
   "metadata": {},
   "outputs": [
    {
     "name": "stdout",
     "output_type": "stream",
     "text": [
      "Value in the array in those indices are:  [11 22 33 41]\n"
     ]
    }
   ],
   "source": [
    "print(\"Value in the array in those indices are: \", an_array[row_indices, col_indices])"
   ]
  },
  {
   "cell_type": "code",
   "execution_count": 105,
   "metadata": {},
   "outputs": [
    {
     "name": "stdout",
     "output_type": "stream",
     "text": [
      "[[100011     12     13]\n",
      " [    21 100022     23]\n",
      " [    31     32 100033]\n",
      " [100041     42     43]]\n"
     ]
    }
   ],
   "source": [
    "an_array[row_indices, col_indices] += 100000\n",
    "print(an_array)"
   ]
  }
 ],
 "metadata": {
  "kernelspec": {
   "display_name": "Python 3",
   "language": "python",
   "name": "python3"
  },
  "language_info": {
   "codemirror_mode": {
    "name": "ipython",
    "version": 3
   },
   "file_extension": ".py",
   "mimetype": "text/x-python",
   "name": "python",
   "nbconvert_exporter": "python",
   "pygments_lexer": "ipython3",
   "version": "3.6.3"
  }
 },
 "nbformat": 4,
 "nbformat_minor": 2
}
